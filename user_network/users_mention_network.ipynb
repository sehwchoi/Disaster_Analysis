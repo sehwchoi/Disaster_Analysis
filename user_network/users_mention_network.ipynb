{
 "cells": [
  {
   "cell_type": "code",
   "execution_count": 4,
   "metadata": {},
   "outputs": [
    {
     "data": {
      "text/html": [
       "<script>requirejs.config({paths: { 'plotly': ['https://cdn.plot.ly/plotly-latest.min']},});if(!window.Plotly) {{require(['plotly'],function(plotly) {window.Plotly=plotly;});}}</script>"
      ],
      "text/vnd.plotly.v1+html": [
       "<script>requirejs.config({paths: { 'plotly': ['https://cdn.plot.ly/plotly-latest.min']},});if(!window.Plotly) {{require(['plotly'],function(plotly) {window.Plotly=plotly;});}}</script>"
      ]
     },
     "metadata": {},
     "output_type": "display_data"
    }
   ],
   "source": [
    "import csv\n",
    "import os\n",
    "import re\n",
    "import time\n",
    "import plotly.plotly as py\n",
    "import plotly\n",
    "from plotly import tools\n",
    "from plotly.offline import init_notebook_mode\n",
    "from plotly.graph_objs import *\n",
    "import plotly.tools as tls\n",
    "\n",
    "plotly.tools.set_credentials_file(username='sehwchoi', api_key='Ze9cXbcfuewb3C8TLktc')\n",
    "init_notebook_mode(connected=True)  "
   ]
  },
  {
   "cell_type": "code",
   "execution_count": 5,
   "metadata": {
    "collapsed": true
   },
   "outputs": [],
   "source": [
    "mention_path = \"../../user_network_data/aggregated_mention_networks\"\n",
    "user_set_path = \"../../user_network_data/Event Users\""
   ]
  },
  {
   "cell_type": "code",
   "execution_count": 6,
   "metadata": {
    "collapsed": true
   },
   "outputs": [],
   "source": [
    "def __read_user_set(file_name):\n",
    "    user_set = []\n",
    "    with open(file_name) as file:\n",
    "        user_set_data = csv.reader(file)\n",
    "        for row in user_set_data:\n",
    "            user_id = row[0]\n",
    "            if user_id != \"id\":\n",
    "                user_set.append(int(user_id))\n",
    "    return user_set\n"
   ]
  },
  {
   "cell_type": "code",
   "execution_count": 7,
   "metadata": {},
   "outputs": [
    {
     "name": "stdout",
     "output_type": "stream",
     "text": [
      "user_set length: 304\n"
     ]
    }
   ],
   "source": [
    "user_set_by_event = {}\n",
    "def read_user_set_for_all_events(path):\n",
    "    for root, dirs, files in os.walk(path):\n",
    "        for filename in files:\n",
    "            file_match = re.search(\"(\\d+)_\", filename)\n",
    "            if file_match:\n",
    "                event_id = file_match.group(1)\n",
    "                user_set = __read_user_set(os.path.join(root, filename))\n",
    "                # print(\"process event: {} user_set_len: {}\".format(event_id, len(user_set)))\n",
    "                user_set_by_event[int(event_id)] = user_set\n",
    "    print(\"user_set length: {}\".format(len(user_set_by_event)))\n",
    "\n",
    "read_user_set_for_all_events(user_set_path)\n",
    "    "
   ]
  },
  {
   "cell_type": "code",
   "execution_count": 8,
   "metadata": {
    "collapsed": true
   },
   "outputs": [],
   "source": [
    "def count_unique_user2(file_name, event):\n",
    "    usr_unique_mention_ct = {}\n",
    "    user_set = user_set_by_event[event]\n",
    "\n",
    "    with open(file_name) as file:\n",
    "        data = csv.reader(file)\n",
    "        for pair in data:\n",
    "            try:\n",
    "                user1 = int(pair[0])\n",
    "                user2 = int(pair[1])\n",
    "            except Exception as e:\n",
    "                print(\"file: {} error: {}\".format(file_name, e))\n",
    "            # print(\"user1: {} user2: {}\".format(user1, user2))\n",
    "            # check if user1 exist as a key and increment mention count1\n",
    "            if user1 not in usr_unique_mention_ct:\n",
    "                # count for an unique user2\n",
    "                count1 = 1\n",
    "                count2 = 0\n",
    "                usr_unique_mention_ct[user1] = [count1, count2]\n",
    "            else:\n",
    "                usr_unique_mention_ct[user1][0] +=1\n",
    "    \n",
    "            # increment count2 if the user2 is in the set\n",
    "            if user2 in user_set:\n",
    "                #print(\"user2: {} in user_set\".format(user2))\n",
    "                usr_unique_mention_ct[user1][1] +=1\n",
    "            \n",
    "            #print(\"user1_mention: {}\".format(usr_unique_mention_ct[user1]))           \n",
    "    #print(\"usr_unique_mention_ct: {}\".format(usr_unique_mention_ct))\n",
    "    return usr_unique_mention_ct"
   ]
  },
  {
   "cell_type": "code",
   "execution_count": 9,
   "metadata": {
    "collapsed": true
   },
   "outputs": [],
   "source": [
    "def get_mention_fraction(mention_ct):\n",
    "    print(type(mention_ct))\n",
    "    count1_max = max(value[0] for value in mention_ct.values())\n",
    "    count2_max = max(value[1] for value in mention_ct.values())\n",
    "    mention_freq = []\n",
    "    total_user1_num = len(mention_ct.keys())\n",
    "    # print(\"total_user_num: {} count1_max: {} count2_max: {}\".format(total_user1_num, count1_max, count2_max))\n",
    "    for i in range(0, count2_max+1):\n",
    "        freq = 0\n",
    "        for counts in mention_ct.values():\n",
    "            if counts[1] == i:\n",
    "                freq += 1\n",
    "        # print(\"num_seq: {} freq: {}\".format(i, freq))\n",
    "        mention_freq.insert(i, freq)\n",
    "        \n",
    "    mention_fraction = []\n",
    "    for freq in mention_freq:\n",
    "        mention_fraction.append(freq/total_user1_num)\n",
    "    \n",
    "    return mention_fraction\n",
    "                "
   ]
  },
  {
   "cell_type": "code",
   "execution_count": 10,
   "metadata": {},
   "outputs": [
    {
     "name": "stdout",
     "output_type": "stream",
     "text": [
      "<class 'dict'>\n",
      "[0.7680525164113785, 0.18818380743982493, 0.0262582056892779, 0.006564551422319475, 0.006564551422319475, 0.0, 0.002188183807439825, 0.0, 0.002188183807439825]\n"
     ]
    },
    {
     "data": {
      "application/vnd.plotly.v1+json": {
       "data": [
        {
         "showlegend": false,
         "type": "bar",
         "x": [
          "0",
          "1",
          "2",
          "3",
          "4",
          "5",
          "6",
          "7",
          "8",
          "9"
         ],
         "y": [
          0.7680525164113785,
          0.18818380743982493,
          0.0262582056892779,
          0.006564551422319475,
          0.006564551422319475,
          0,
          0.002188183807439825,
          0,
          0.002188183807439825
         ]
        }
       ],
       "layout": {
        "title": "Event 42 User Mention Network Fraction",
        "xaxis": {
         "title": "Num of unique user2"
        },
        "yaxis": {
         "title": "Fraction of user1 who mentioned x number of user2"
        }
       }
      },
      "text/html": [
       "<div id=\"dfa5b9ad-61dd-4899-81cb-d35f1aa0a4ba\" style=\"height: 525px; width: 100%;\" class=\"plotly-graph-div\"></div><script type=\"text/javascript\">require([\"plotly\"], function(Plotly) { window.PLOTLYENV=window.PLOTLYENV || {};window.PLOTLYENV.BASE_URL=\"https://plot.ly\";Plotly.newPlot(\"dfa5b9ad-61dd-4899-81cb-d35f1aa0a4ba\", [{\"type\": \"bar\", \"x\": [\"0\", \"1\", \"2\", \"3\", \"4\", \"5\", \"6\", \"7\", \"8\", \"9\"], \"y\": [0.7680525164113785, 0.18818380743982493, 0.0262582056892779, 0.006564551422319475, 0.006564551422319475, 0.0, 0.002188183807439825, 0.0, 0.002188183807439825], \"showlegend\": false}], {\"xaxis\": {\"title\": \"Num of unique user2\"}, \"yaxis\": {\"title\": \"Fraction of user1 who mentioned x number of user2\"}, \"title\": \"Event 42 User Mention Network Fraction\"}, {\"showLink\": true, \"linkText\": \"Export to plot.ly\"})});</script>"
      ],
      "text/vnd.plotly.v1+html": [
       "<div id=\"dfa5b9ad-61dd-4899-81cb-d35f1aa0a4ba\" style=\"height: 525px; width: 100%;\" class=\"plotly-graph-div\"></div><script type=\"text/javascript\">require([\"plotly\"], function(Plotly) { window.PLOTLYENV=window.PLOTLYENV || {};window.PLOTLYENV.BASE_URL=\"https://plot.ly\";Plotly.newPlot(\"dfa5b9ad-61dd-4899-81cb-d35f1aa0a4ba\", [{\"type\": \"bar\", \"x\": [\"0\", \"1\", \"2\", \"3\", \"4\", \"5\", \"6\", \"7\", \"8\", \"9\"], \"y\": [0.7680525164113785, 0.18818380743982493, 0.0262582056892779, 0.006564551422319475, 0.006564551422319475, 0.0, 0.002188183807439825, 0.0, 0.002188183807439825], \"showlegend\": false}], {\"xaxis\": {\"title\": \"Num of unique user2\"}, \"yaxis\": {\"title\": \"Fraction of user1 who mentioned x number of user2\"}, \"title\": \"Event 42 User Mention Network Fraction\"}, {\"showLink\": true, \"linkText\": \"Export to plot.ly\"})});</script>"
      ]
     },
     "metadata": {},
     "output_type": "display_data"
    },
    {
     "name": "stdout",
     "output_type": "stream",
     "text": [
      "<class 'dict'>\n",
      "[0.745136186770428, 0.19747081712062256, 0.04134241245136187, 0.009727626459143969, 0.003404669260700389, 0.00048638132295719845, 0.0019455252918287938, 0.0, 0.00048638132295719845]\n"
     ]
    },
    {
     "data": {
      "application/vnd.plotly.v1+json": {
       "data": [
        {
         "showlegend": false,
         "type": "bar",
         "x": [
          "0",
          "1",
          "2",
          "3",
          "4",
          "5",
          "6",
          "7",
          "8",
          "9"
         ],
         "y": [
          0.745136186770428,
          0.19747081712062256,
          0.04134241245136187,
          0.009727626459143969,
          0.003404669260700389,
          0.00048638132295719845,
          0.0019455252918287938,
          0,
          0.00048638132295719845
         ]
        }
       ],
       "layout": {
        "title": "Event 44 User Mention Network Fraction",
        "xaxis": {
         "title": "Num of unique user2"
        },
        "yaxis": {
         "title": "Fraction of user1 who mentioned x number of user2"
        }
       }
      },
      "text/html": [
       "<div id=\"5faeead1-5648-4b44-a7bb-60107deba9ad\" style=\"height: 525px; width: 100%;\" class=\"plotly-graph-div\"></div><script type=\"text/javascript\">require([\"plotly\"], function(Plotly) { window.PLOTLYENV=window.PLOTLYENV || {};window.PLOTLYENV.BASE_URL=\"https://plot.ly\";Plotly.newPlot(\"5faeead1-5648-4b44-a7bb-60107deba9ad\", [{\"type\": \"bar\", \"x\": [\"0\", \"1\", \"2\", \"3\", \"4\", \"5\", \"6\", \"7\", \"8\", \"9\"], \"y\": [0.745136186770428, 0.19747081712062256, 0.04134241245136187, 0.009727626459143969, 0.003404669260700389, 0.00048638132295719845, 0.0019455252918287938, 0.0, 0.00048638132295719845], \"showlegend\": false}], {\"xaxis\": {\"title\": \"Num of unique user2\"}, \"yaxis\": {\"title\": \"Fraction of user1 who mentioned x number of user2\"}, \"title\": \"Event 44 User Mention Network Fraction\"}, {\"showLink\": true, \"linkText\": \"Export to plot.ly\"})});</script>"
      ],
      "text/vnd.plotly.v1+html": [
       "<div id=\"5faeead1-5648-4b44-a7bb-60107deba9ad\" style=\"height: 525px; width: 100%;\" class=\"plotly-graph-div\"></div><script type=\"text/javascript\">require([\"plotly\"], function(Plotly) { window.PLOTLYENV=window.PLOTLYENV || {};window.PLOTLYENV.BASE_URL=\"https://plot.ly\";Plotly.newPlot(\"5faeead1-5648-4b44-a7bb-60107deba9ad\", [{\"type\": \"bar\", \"x\": [\"0\", \"1\", \"2\", \"3\", \"4\", \"5\", \"6\", \"7\", \"8\", \"9\"], \"y\": [0.745136186770428, 0.19747081712062256, 0.04134241245136187, 0.009727626459143969, 0.003404669260700389, 0.00048638132295719845, 0.0019455252918287938, 0.0, 0.00048638132295719845], \"showlegend\": false}], {\"xaxis\": {\"title\": \"Num of unique user2\"}, \"yaxis\": {\"title\": \"Fraction of user1 who mentioned x number of user2\"}, \"title\": \"Event 44 User Mention Network Fraction\"}, {\"showLink\": true, \"linkText\": \"Export to plot.ly\"})});</script>"
      ]
     },
     "metadata": {},
     "output_type": "display_data"
    },
    {
     "name": "stdout",
     "output_type": "stream",
     "text": [
      "file: ../../user_network_data/aggregated_mention_networks/78_mention_network.csv error: invalid literal for int() with base 10: 'https://pbs.twimg.com/profile_banners/123669878/1468044592'\n",
      "<class 'dict'>\n",
      "[0.6753163543168349, 0.2098350152170431, 0.06855678359762934, 0.0245074483421432, 0.011052378664103796, 0.005606279032516418, 0.002723049815793689, 0.0011212558065032837, 0.0004805382027871216, 0.00032035880185808104, 0.0, 0.00032035880185808104, 0.0, 0.00016017940092904052]\n"
     ]
    },
    {
     "data": {
      "application/vnd.plotly.v1+json": {
       "data": [
        {
         "showlegend": false,
         "type": "bar",
         "x": [
          "0",
          "1",
          "2",
          "3",
          "4",
          "5",
          "6",
          "7",
          "8",
          "9",
          "10",
          "11",
          "12",
          "13",
          "14"
         ],
         "y": [
          0.6753163543168349,
          0.2098350152170431,
          0.06855678359762934,
          0.0245074483421432,
          0.011052378664103796,
          0.005606279032516418,
          0.002723049815793689,
          0.0011212558065032837,
          0.0004805382027871216,
          0.00032035880185808104,
          0,
          0.00032035880185808104,
          0,
          0.00016017940092904052
         ]
        }
       ],
       "layout": {
        "title": "Event 78 User Mention Network Fraction",
        "xaxis": {
         "title": "Num of unique user2"
        },
        "yaxis": {
         "title": "Fraction of user1 who mentioned x number of user2"
        }
       }
      },
      "text/html": [
       "<div id=\"c67dc854-a895-49fe-a341-2f9ee9d47895\" style=\"height: 525px; width: 100%;\" class=\"plotly-graph-div\"></div><script type=\"text/javascript\">require([\"plotly\"], function(Plotly) { window.PLOTLYENV=window.PLOTLYENV || {};window.PLOTLYENV.BASE_URL=\"https://plot.ly\";Plotly.newPlot(\"c67dc854-a895-49fe-a341-2f9ee9d47895\", [{\"type\": \"bar\", \"x\": [\"0\", \"1\", \"2\", \"3\", \"4\", \"5\", \"6\", \"7\", \"8\", \"9\", \"10\", \"11\", \"12\", \"13\", \"14\"], \"y\": [0.6753163543168349, 0.2098350152170431, 0.06855678359762934, 0.0245074483421432, 0.011052378664103796, 0.005606279032516418, 0.002723049815793689, 0.0011212558065032837, 0.0004805382027871216, 0.00032035880185808104, 0.0, 0.00032035880185808104, 0.0, 0.00016017940092904052], \"showlegend\": false}], {\"xaxis\": {\"title\": \"Num of unique user2\"}, \"yaxis\": {\"title\": \"Fraction of user1 who mentioned x number of user2\"}, \"title\": \"Event 78 User Mention Network Fraction\"}, {\"showLink\": true, \"linkText\": \"Export to plot.ly\"})});</script>"
      ],
      "text/vnd.plotly.v1+html": [
       "<div id=\"c67dc854-a895-49fe-a341-2f9ee9d47895\" style=\"height: 525px; width: 100%;\" class=\"plotly-graph-div\"></div><script type=\"text/javascript\">require([\"plotly\"], function(Plotly) { window.PLOTLYENV=window.PLOTLYENV || {};window.PLOTLYENV.BASE_URL=\"https://plot.ly\";Plotly.newPlot(\"c67dc854-a895-49fe-a341-2f9ee9d47895\", [{\"type\": \"bar\", \"x\": [\"0\", \"1\", \"2\", \"3\", \"4\", \"5\", \"6\", \"7\", \"8\", \"9\", \"10\", \"11\", \"12\", \"13\", \"14\"], \"y\": [0.6753163543168349, 0.2098350152170431, 0.06855678359762934, 0.0245074483421432, 0.011052378664103796, 0.005606279032516418, 0.002723049815793689, 0.0011212558065032837, 0.0004805382027871216, 0.00032035880185808104, 0.0, 0.00032035880185808104, 0.0, 0.00016017940092904052], \"showlegend\": false}], {\"xaxis\": {\"title\": \"Num of unique user2\"}, \"yaxis\": {\"title\": \"Fraction of user1 who mentioned x number of user2\"}, \"title\": \"Event 78 User Mention Network Fraction\"}, {\"showLink\": true, \"linkText\": \"Export to plot.ly\"})});</script>"
      ]
     },
     "metadata": {},
     "output_type": "display_data"
    }
   ],
   "source": [
    "def graph_for_mention_frac(path, events):\n",
    "    for event in events:\n",
    "        file_name = os.path.join(path, \"{}_mention_network.csv\".format(event))\n",
    "        mention_ct = count_unique_user2(file_name, event)\n",
    "        mention_frac = get_mention_fraction(mention_ct)\n",
    "        print(mention_frac)\n",
    "        trace1 = Bar(\n",
    "                x=['%s'%i for i in range(0, len(mention_frac)+1)],\n",
    "                y=mention_frac,\n",
    "                showlegend=False)\n",
    "        layout=Layout(\n",
    "                xaxis=XAxis(title='Num of unique user2'),\n",
    "                yaxis=YAxis(title='Fraction of user1 who mentioned x number of user2'),\n",
    "                title='Event {} User Mention Network Fraction'.format(event))\n",
    "\n",
    "        data = Data([trace1])\n",
    "        fig = Figure(data=data, layout=layout)\n",
    "        plotly.offline.iplot(fig, filename=\"my plot\")\n",
    "\n",
    "graph_for_mention_frac(mention_path, [42, 44, 78])"
   ]
  },
  {
   "cell_type": "code",
   "execution_count": null,
   "metadata": {
    "collapsed": true
   },
   "outputs": [],
   "source": []
  }
 ],
 "metadata": {
  "kernelspec": {
   "display_name": "Python 3",
   "language": "python",
   "name": "python3"
  },
  "language_info": {
   "codemirror_mode": {
    "name": "ipython",
    "version": 3
   },
   "file_extension": ".py",
   "mimetype": "text/x-python",
   "name": "python",
   "nbconvert_exporter": "python",
   "pygments_lexer": "ipython3",
   "version": "3.6.3"
  }
 },
 "nbformat": 4,
 "nbformat_minor": 2
}
