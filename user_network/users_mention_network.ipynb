{
 "cells": [
  {
   "cell_type": "code",
   "execution_count": 1,
   "metadata": {},
   "outputs": [
    {
     "data": {
      "text/html": [
       "<script>requirejs.config({paths: { 'plotly': ['https://cdn.plot.ly/plotly-latest.min']},});if(!window.Plotly) {{require(['plotly'],function(plotly) {window.Plotly=plotly;});}}</script>"
      ],
      "text/vnd.plotly.v1+html": [
       "<script>requirejs.config({paths: { 'plotly': ['https://cdn.plot.ly/plotly-latest.min']},});if(!window.Plotly) {{require(['plotly'],function(plotly) {window.Plotly=plotly;});}}</script>"
      ]
     },
     "metadata": {},
     "output_type": "display_data"
    }
   ],
   "source": [
    "import csv\n",
    "import os\n",
    "import re\n",
    "import time\n",
    "import plotly.plotly as py\n",
    "import plotly\n",
    "from plotly import tools\n",
    "from plotly.offline import init_notebook_mode\n",
    "from plotly.graph_objs import *\n",
    "import plotly.tools as tls\n",
    "\n",
    "plotly.tools.set_credentials_file(username='sehwchoi', api_key='Ze9cXbcfuewb3C8TLktc')\n",
    "init_notebook_mode(connected=True)  "
   ]
  },
  {
   "cell_type": "code",
   "execution_count": 2,
   "metadata": {
    "collapsed": true
   },
   "outputs": [],
   "source": [
    "mention_path = \"../../user_network_data/aggregated_mention_networks\"\n",
    "user_set_path = \"../../user_network_data/Event Users\""
   ]
  },
  {
   "cell_type": "code",
   "execution_count": 3,
   "metadata": {
    "collapsed": true
   },
   "outputs": [],
   "source": [
    "def __read_user_set(file_name):\n",
    "    user_set = []\n",
    "    with open(file_name) as file:\n",
    "        user_set_data = csv.reader(file)\n",
    "        for row in user_set_data:\n",
    "            user_id = row[0]\n",
    "            if user_id != \"id\":\n",
    "                user_set.append(int(user_id))\n",
    "    return user_set\n"
   ]
  },
  {
   "cell_type": "code",
   "execution_count": 34,
   "metadata": {
    "collapsed": true
   },
   "outputs": [
    {
     "name": "stdout",
     "output_type": "stream",
     "text": [
      "process event: 100 user_set_len: 8906\n",
      "process event: 101 user_set_len: 5875\n",
      "process event: 102 user_set_len: 1691\n",
      "process event: 103 user_set_len: 33237\n",
      "process event: 104 user_set_len: 14354\n",
      "process event: 105 user_set_len: 8063\n",
      "process event: 106 user_set_len: 48681\n",
      "process event: 107 user_set_len: 108166\n",
      "process event: 108 user_set_len: 0\n",
      "process event: 109 user_set_len: 16151\n",
      "process event: 110 user_set_len: 0\n",
      "process event: 111 user_set_len: 108351\n",
      "process event: 112 user_set_len: 22719\n",
      "process event: 113 user_set_len: 73479\n",
      "process event: 114 user_set_len: 98113\n",
      "process event: 115 user_set_len: 42859\n",
      "process event: 116 user_set_len: 39020\n",
      "process event: 118 user_set_len: 8742\n",
      "process event: 119 user_set_len: 333098\n",
      "process event: 120 user_set_len: 16211\n",
      "process event: 121 user_set_len: 18800\n",
      "process event: 122 user_set_len: 68\n",
      "process event: 123 user_set_len: 3874\n",
      "process event: 124 user_set_len: 418\n",
      "process event: 125 user_set_len: 0\n",
      "process event: 126 user_set_len: 0\n",
      "process event: 127 user_set_len: 2222\n",
      "process event: 128 user_set_len: 6661\n",
      "process event: 129 user_set_len: 1759\n",
      "process event: 130 user_set_len: 45951\n",
      "process event: 131 user_set_len: 84369\n",
      "process event: 132 user_set_len: 93989\n",
      "process event: 133 user_set_len: 50870\n",
      "process event: 134 user_set_len: 0\n",
      "process event: 135 user_set_len: 0\n",
      "process event: 136 user_set_len: 0\n",
      "process event: 137 user_set_len: 0\n",
      "process event: 138 user_set_len: 6222\n",
      "process event: 139 user_set_len: 30622\n",
      "process event: 140 user_set_len: 2231\n",
      "process event: 141 user_set_len: 33545\n",
      "process event: 142 user_set_len: 13440\n",
      "process event: 143 user_set_len: 0\n",
      "process event: 144 user_set_len: 0\n",
      "process event: 145 user_set_len: 0\n",
      "process event: 146 user_set_len: 0\n",
      "process event: 147 user_set_len: 0\n",
      "process event: 148 user_set_len: 0\n",
      "process event: 149 user_set_len: 286\n",
      "process event: 150 user_set_len: 4286\n",
      "process event: 151 user_set_len: 0\n",
      "process event: 152 user_set_len: 0\n",
      "process event: 153 user_set_len: 862\n",
      "process event: 154 user_set_len: 0\n",
      "process event: 155 user_set_len: 4202\n",
      "process event: 156 user_set_len: 0\n",
      "process event: 157 user_set_len: 0\n",
      "process event: 158 user_set_len: 0\n",
      "process event: 159 user_set_len: 3484\n",
      "process event: 160 user_set_len: 5511\n",
      "process event: 161 user_set_len: 3265\n",
      "process event: 162 user_set_len: 477\n",
      "process event: 163 user_set_len: 41387\n",
      "process event: 164 user_set_len: 2829\n",
      "process event: 165 user_set_len: 1075\n",
      "process event: 166 user_set_len: 191\n",
      "process event: 167 user_set_len: 2432\n",
      "process event: 168 user_set_len: 62102\n",
      "process event: 169 user_set_len: 64595\n",
      "process event: 170 user_set_len: 0\n",
      "process event: 171 user_set_len: 896\n",
      "process event: 172 user_set_len: 974\n",
      "process event: 173 user_set_len: 741\n",
      "process event: 174 user_set_len: 89549\n",
      "process event: 175 user_set_len: 14818\n",
      "process event: 176 user_set_len: 472\n",
      "process event: 177 user_set_len: 18313\n",
      "process event: 178 user_set_len: 475\n",
      "process event: 179 user_set_len: 4727\n",
      "process event: 180 user_set_len: 1585\n",
      "process event: 181 user_set_len: 57412\n",
      "process event: 182 user_set_len: 789\n",
      "process event: 183 user_set_len: 15932\n",
      "process event: 184 user_set_len: 14826\n",
      "process event: 185 user_set_len: 0\n",
      "process event: 186 user_set_len: 36222\n",
      "process event: 187 user_set_len: 29839\n",
      "process event: 188 user_set_len: 26213\n",
      "process event: 189 user_set_len: 2798\n",
      "process event: 190 user_set_len: 0\n",
      "process event: 191 user_set_len: 0\n",
      "process event: 192 user_set_len: 72044\n",
      "process event: 193 user_set_len: 33695\n",
      "process event: 194 user_set_len: 26785\n",
      "process event: 195 user_set_len: 81450\n",
      "process event: 196 user_set_len: 180574\n",
      "process event: 197 user_set_len: 14531\n",
      "process event: 198 user_set_len: 26236\n",
      "process event: 199 user_set_len: 793\n",
      "process event: 200 user_set_len: 1078\n",
      "process event: 201 user_set_len: 0\n",
      "process event: 202 user_set_len: 0\n",
      "process event: 203 user_set_len: 28042\n",
      "process event: 204 user_set_len: 8116\n",
      "process event: 205 user_set_len: 0\n",
      "process event: 206 user_set_len: 546\n",
      "process event: 207 user_set_len: 543\n",
      "process event: 208 user_set_len: 37239\n",
      "process event: 209 user_set_len: 0\n",
      "process event: 210 user_set_len: 0\n",
      "process event: 211 user_set_len: 0\n",
      "process event: 212 user_set_len: 0\n",
      "process event: 213 user_set_len: 0\n",
      "process event: 214 user_set_len: 0\n",
      "process event: 215 user_set_len: 0\n",
      "process event: 216 user_set_len: 0\n",
      "process event: 217 user_set_len: 0\n",
      "process event: 218 user_set_len: 0\n",
      "process event: 219 user_set_len: 0\n",
      "process event: 220 user_set_len: 0\n",
      "process event: 221 user_set_len: 0\n",
      "process event: 222 user_set_len: 0\n",
      "process event: 223 user_set_len: 0\n",
      "process event: 224 user_set_len: 0\n",
      "process event: 225 user_set_len: 51949\n",
      "process event: 226 user_set_len: 0\n",
      "process event: 227 user_set_len: 0\n",
      "process event: 228 user_set_len: 0\n",
      "process event: 229 user_set_len: 0\n",
      "process event: 230 user_set_len: 0\n",
      "process event: 231 user_set_len: 0\n",
      "process event: 232 user_set_len: 46862\n",
      "process event: 233 user_set_len: 652\n",
      "process event: 234 user_set_len: 80\n",
      "process event: 235 user_set_len: 5276\n",
      "process event: 236 user_set_len: 162\n",
      "process event: 237 user_set_len: 1818\n",
      "process event: 238 user_set_len: 655\n",
      "process event: 239 user_set_len: 73212\n",
      "process event: 240 user_set_len: 27\n",
      "process event: 241 user_set_len: 36\n",
      "process event: 242 user_set_len: 21564\n",
      "process event: 243 user_set_len: 24\n",
      "process event: 244 user_set_len: 385\n",
      "process event: 245 user_set_len: 459\n",
      "process event: 246 user_set_len: 1159\n",
      "process event: 247 user_set_len: 31\n",
      "process event: 248 user_set_len: 197\n",
      "process event: 249 user_set_len: 103\n",
      "process event: 250 user_set_len: 12176\n",
      "process event: 251 user_set_len: 16428\n",
      "process event: 252 user_set_len: 51\n",
      "process event: 253 user_set_len: 4011\n",
      "process event: 254 user_set_len: 4511\n",
      "process event: 255 user_set_len: 5013\n",
      "process event: 256 user_set_len: 1922\n",
      "process event: 257 user_set_len: 4168\n",
      "process event: 258 user_set_len: 4210\n",
      "process event: 259 user_set_len: 6828\n",
      "process event: 260 user_set_len: 191\n",
      "process event: 261 user_set_len: 585\n",
      "process event: 262 user_set_len: 53386\n",
      "process event: 263 user_set_len: 44953\n",
      "process event: 264 user_set_len: 1322\n",
      "process event: 265 user_set_len: 22314\n",
      "process event: 266 user_set_len: 20817\n",
      "process event: 267 user_set_len: 11\n",
      "process event: 268 user_set_len: 30\n",
      "process event: 269 user_set_len: 20659\n",
      "process event: 270 user_set_len: 292803\n",
      "process event: 271 user_set_len: 263\n",
      "process event: 272 user_set_len: 61110\n",
      "process event: 273 user_set_len: 436\n",
      "process event: 274 user_set_len: 16781\n",
      "process event: 275 user_set_len: 38\n",
      "process event: 276 user_set_len: 1931\n",
      "process event: 277 user_set_len: 364\n",
      "process event: 278 user_set_len: 2537\n",
      "process event: 279 user_set_len: 1971\n",
      "process event: 280 user_set_len: 51781\n",
      "process event: 281 user_set_len: 58460\n",
      "process event: 282 user_set_len: 10000\n",
      "process event: 283 user_set_len: 379\n",
      "process event: 284 user_set_len: 575\n",
      "process event: 285 user_set_len: 66803\n",
      "process event: 286 user_set_len: 3158\n",
      "process event: 287 user_set_len: 0\n",
      "process event: 288 user_set_len: 6630\n",
      "process event: 289 user_set_len: 3969\n",
      "process event: 290 user_set_len: 5807\n",
      "process event: 291 user_set_len: 10552\n",
      "process event: 292 user_set_len: 206695\n",
      "process event: 293 user_set_len: 404223\n",
      "process event: 294 user_set_len: 8919\n",
      "process event: 295 user_set_len: 151067\n",
      "process event: 296 user_set_len: 2901\n",
      "process event: 297 user_set_len: 32074\n",
      "process event: 298 user_set_len: 24423\n",
      "process event: 299 user_set_len: 9886\n",
      "process event: 300 user_set_len: 17991\n",
      "process event: 301 user_set_len: 5715\n",
      "process event: 302 user_set_len: 25465\n",
      "process event: 303 user_set_len: 66\n",
      "process event: 304 user_set_len: 37043\n",
      "process event: 305 user_set_len: 5942\n",
      "process event: 306 user_set_len: 25413\n",
      "process event: 307 user_set_len: 65\n",
      "process event: 308 user_set_len: 13129\n",
      "process event: 309 user_set_len: 52\n",
      "process event: 310 user_set_len: 27609\n",
      "process event: 311 user_set_len: 1283\n",
      "process event: 312 user_set_len: 833\n",
      "process event: 313 user_set_len: 0\n",
      "process event: 314 user_set_len: 0\n",
      "process event: 315 user_set_len: 0\n",
      "process event: 316 user_set_len: 0\n",
      "process event: 317 user_set_len: 0\n",
      "process event: 318 user_set_len: 0\n",
      "process event: 319 user_set_len: 10565\n",
      "process event: 320 user_set_len: 32459\n",
      "process event: 321 user_set_len: 2371\n",
      "process event: 322 user_set_len: 50\n",
      "process event: 323 user_set_len: 3\n",
      "process event: 324 user_set_len: 0\n",
      "process event: 325 user_set_len: 0\n",
      "process event: 326 user_set_len: 0\n",
      "process event: 327 user_set_len: 0\n",
      "process event: 328 user_set_len: 963\n"
     ]
    },
    {
     "name": "stdout",
     "output_type": "stream",
     "text": [
      "process event: 329 user_set_len: 92826\n",
      "process event: 330 user_set_len: 161\n",
      "process event: 331 user_set_len: 124935\n",
      "process event: 332 user_set_len: 264719\n",
      "process event: 333 user_set_len: 0\n",
      "process event: 334 user_set_len: 0\n",
      "process event: 335 user_set_len: 3385\n",
      "process event: 336 user_set_len: 3459\n",
      "process event: 337 user_set_len: 0\n",
      "process event: 338 user_set_len: 0\n",
      "process event: 339 user_set_len: 8180\n",
      "process event: 340 user_set_len: 16290\n",
      "process event: 341 user_set_len: 4386\n",
      "process event: 342 user_set_len: 1401\n",
      "process event: 343 user_set_len: 2222\n",
      "process event: 344 user_set_len: 0\n",
      "process event: 345 user_set_len: 1820\n",
      "process event: 346 user_set_len: 86\n",
      "process event: 42 user_set_len: 691\n",
      "process event: 43 user_set_len: 68\n",
      "process event: 44 user_set_len: 2975\n",
      "process event: 45 user_set_len: 7590\n",
      "process event: 46 user_set_len: 9640\n",
      "process event: 47 user_set_len: 12527\n",
      "process event: 48 user_set_len: 21650\n",
      "process event: 49 user_set_len: 26066\n",
      "process event: 50 user_set_len: 8\n",
      "process event: 51 user_set_len: 209\n",
      "process event: 52 user_set_len: 7230\n",
      "process event: 53 user_set_len: 2097\n",
      "process event: 54 user_set_len: 1370\n",
      "process event: 55 user_set_len: 42579\n",
      "process event: 56 user_set_len: 745\n",
      "process event: 57 user_set_len: 772\n",
      "process event: 58 user_set_len: 835\n",
      "process event: 59 user_set_len: 1013\n",
      "process event: 60 user_set_len: 6143\n",
      "process event: 61 user_set_len: 37267\n",
      "process event: 62 user_set_len: 3383\n",
      "process event: 63 user_set_len: 59785\n",
      "process event: 64 user_set_len: 69\n",
      "process event: 65 user_set_len: 664\n",
      "process event: 66 user_set_len: 8274\n",
      "process event: 67 user_set_len: 67549\n",
      "process event: 68 user_set_len: 930\n",
      "process event: 69 user_set_len: 3100\n",
      "process event: 70 user_set_len: 2092\n",
      "process event: 71 user_set_len: 157604\n",
      "process event: 72 user_set_len: 64987\n",
      "process event: 73 user_set_len: 38457\n",
      "process event: 74 user_set_len: 4491\n",
      "process event: 75 user_set_len: 3142\n",
      "process event: 76 user_set_len: 10953\n",
      "process event: 77 user_set_len: 2058\n",
      "process event: 78 user_set_len: 7219\n",
      "process event: 79 user_set_len: 1241\n",
      "process event: 80 user_set_len: 0\n",
      "process event: 81 user_set_len: 9978\n",
      "process event: 82 user_set_len: 15867\n",
      "process event: 83 user_set_len: 208\n",
      "process event: 84 user_set_len: 1413\n",
      "process event: 85 user_set_len: 60683\n",
      "process event: 86 user_set_len: 4004\n",
      "process event: 87 user_set_len: 11025\n",
      "process event: 88 user_set_len: 89791\n",
      "process event: 89 user_set_len: 41605\n",
      "process event: 90 user_set_len: 31157\n",
      "process event: 91 user_set_len: 11856\n",
      "process event: 92 user_set_len: 7084\n",
      "process event: 93 user_set_len: 16932\n",
      "process event: 94 user_set_len: 0\n",
      "process event: 95 user_set_len: 7121\n",
      "process event: 96 user_set_len: 0\n",
      "process event: 97 user_set_len: 1356\n",
      "process event: 98 user_set_len: 665\n",
      "process event: 99 user_set_len: 748\n",
      "user_set length: 304\n"
     ]
    }
   ],
   "source": [
    "user_set_by_event = {}\n",
    "def read_user_set_for_all_events(path):\n",
    "    for root, dirs, files in os.walk(path):\n",
    "        for filename in files:\n",
    "            file_match = re.search(\"(\\d+)_\", filename)\n",
    "            if file_match:\n",
    "                event_id = file_match.group(1)\n",
    "                user_set = __read_user_set(os.path.join(root, filename))\n",
    "                # print(\"process event: {} user_set_len: {}\".format(event_id, len(user_set)))\n",
    "                user_set_by_event[int(event_id)] = user_set\n",
    "    print(\"user_set length: {}\".format(len(user_set_by_event)))\n",
    "\n",
    "read_user_set_for_all_events(user_set_path)\n",
    "    "
   ]
  },
  {
   "cell_type": "code",
   "execution_count": 42,
   "metadata": {
    "collapsed": true
   },
   "outputs": [],
   "source": [
    "def count_unique_user2(file_name, event):\n",
    "    usr_unique_mention_ct = {}\n",
    "    user_set = user_set_by_event[event]\n",
    "\n",
    "    with open(file_name) as file:\n",
    "        data = csv.reader(file)\n",
    "        for pair in data:\n",
    "            try:\n",
    "                user1 = int(pair[0])\n",
    "                user2 = int(pair[1])\n",
    "            except Exception as e:\n",
    "                print(\"file: {} error: {}\".format(file_name, e))\n",
    "            # print(\"user1: {} user2: {}\".format(user1, user2))\n",
    "            # check if user1 exist as a key and increment mention count1\n",
    "            if user1 not in usr_unique_mention_ct:\n",
    "                # count for an unique user2\n",
    "                count1 = 1\n",
    "                count2 = 0\n",
    "                usr_unique_mention_ct[user1] = [count1, count2]\n",
    "            else:\n",
    "                usr_unique_mention_ct[user1][0] +=1\n",
    "    \n",
    "            # increment count2 if the user2 is in the set\n",
    "            if user2 in user_set:\n",
    "                #print(\"user2: {} in user_set\".format(user2))\n",
    "                usr_unique_mention_ct[user1][1] +=1\n",
    "            \n",
    "            #print(\"user1_mention: {}\".format(usr_unique_mention_ct[user1]))           \n",
    "    #print(\"usr_unique_mention_ct: {}\".format(usr_unique_mention_ct))\n",
    "    return usr_unique_mention_ct"
   ]
  },
  {
   "cell_type": "code",
   "execution_count": 43,
   "metadata": {
    "collapsed": true
   },
   "outputs": [],
   "source": [
    "def get_mention_fraction(mention_ct):\n",
    "    print(type(mention_ct))\n",
    "    count1_max = max(value[0] for value in mention_ct.values())\n",
    "    count2_max = max(value[1] for value in mention_ct.values())\n",
    "    mention_freq = []\n",
    "    total_user1_num = len(mention_ct.keys())\n",
    "    # print(\"total_user_num: {} count1_max: {} count2_max: {}\".format(total_user1_num, count1_max, count2_max))\n",
    "    for i in range(0, count2_max+1):\n",
    "        freq = 0\n",
    "        for counts in mention_ct.values():\n",
    "            if counts[1] == i:\n",
    "                freq += 1\n",
    "        # print(\"num_seq: {} freq: {}\".format(i, freq))\n",
    "        mention_freq.insert(i, freq)\n",
    "        \n",
    "    mention_fraction = []\n",
    "    for freq in mention_freq:\n",
    "        mention_fraction.append(freq/total_user1_num)\n",
    "    \n",
    "    return mention_fraction\n",
    "                "
   ]
  },
  {
   "cell_type": "code",
   "execution_count": 44,
   "metadata": {},
   "outputs": [
    {
     "name": "stdout",
     "output_type": "stream",
     "text": [
      "<class 'dict'>\n",
      "[0.7680525164113785, 0.18818380743982493, 0.0262582056892779, 0.006564551422319475, 0.006564551422319475, 0.0, 0.002188183807439825, 0.0, 0.002188183807439825]\n"
     ]
    },
    {
     "data": {
      "application/vnd.plotly.v1+json": {
       "data": [
        {
         "showlegend": false,
         "type": "bar",
         "x": [
          "0",
          "1",
          "2",
          "3",
          "4",
          "5",
          "6",
          "7",
          "8",
          "9"
         ],
         "y": [
          0.7680525164113785,
          0.18818380743982493,
          0.0262582056892779,
          0.006564551422319475,
          0.006564551422319475,
          0,
          0.002188183807439825,
          0,
          0.002188183807439825
         ]
        }
       ],
       "layout": {
        "title": "Event 42 User Mention Network Fraction",
        "xaxis": {
         "title": "Num of unique user2"
        },
        "yaxis": {
         "title": "Fraction of user1 who mentioned x number of user2"
        }
       }
      },
      "text/html": [
       "<div id=\"92d7efef-3bea-4429-aafe-ff72b8445024\" style=\"height: 525px; width: 100%;\" class=\"plotly-graph-div\"></div><script type=\"text/javascript\">require([\"plotly\"], function(Plotly) { window.PLOTLYENV=window.PLOTLYENV || {};window.PLOTLYENV.BASE_URL=\"https://plot.ly\";Plotly.newPlot(\"92d7efef-3bea-4429-aafe-ff72b8445024\", [{\"type\": \"bar\", \"x\": [\"0\", \"1\", \"2\", \"3\", \"4\", \"5\", \"6\", \"7\", \"8\", \"9\"], \"y\": [0.7680525164113785, 0.18818380743982493, 0.0262582056892779, 0.006564551422319475, 0.006564551422319475, 0.0, 0.002188183807439825, 0.0, 0.002188183807439825], \"showlegend\": false}], {\"xaxis\": {\"title\": \"Num of unique user2\"}, \"yaxis\": {\"title\": \"Fraction of user1 who mentioned x number of user2\"}, \"title\": \"Event 42 User Mention Network Fraction\"}, {\"showLink\": true, \"linkText\": \"Export to plot.ly\"})});</script>"
      ],
      "text/vnd.plotly.v1+html": [
       "<div id=\"92d7efef-3bea-4429-aafe-ff72b8445024\" style=\"height: 525px; width: 100%;\" class=\"plotly-graph-div\"></div><script type=\"text/javascript\">require([\"plotly\"], function(Plotly) { window.PLOTLYENV=window.PLOTLYENV || {};window.PLOTLYENV.BASE_URL=\"https://plot.ly\";Plotly.newPlot(\"92d7efef-3bea-4429-aafe-ff72b8445024\", [{\"type\": \"bar\", \"x\": [\"0\", \"1\", \"2\", \"3\", \"4\", \"5\", \"6\", \"7\", \"8\", \"9\"], \"y\": [0.7680525164113785, 0.18818380743982493, 0.0262582056892779, 0.006564551422319475, 0.006564551422319475, 0.0, 0.002188183807439825, 0.0, 0.002188183807439825], \"showlegend\": false}], {\"xaxis\": {\"title\": \"Num of unique user2\"}, \"yaxis\": {\"title\": \"Fraction of user1 who mentioned x number of user2\"}, \"title\": \"Event 42 User Mention Network Fraction\"}, {\"showLink\": true, \"linkText\": \"Export to plot.ly\"})});</script>"
      ]
     },
     "metadata": {},
     "output_type": "display_data"
    },
    {
     "name": "stdout",
     "output_type": "stream",
     "text": [
      "<class 'dict'>\n",
      "[0.745136186770428, 0.19747081712062256, 0.04134241245136187, 0.009727626459143969, 0.003404669260700389, 0.00048638132295719845, 0.0019455252918287938, 0.0, 0.00048638132295719845]\n"
     ]
    },
    {
     "data": {
      "application/vnd.plotly.v1+json": {
       "data": [
        {
         "showlegend": false,
         "type": "bar",
         "x": [
          "0",
          "1",
          "2",
          "3",
          "4",
          "5",
          "6",
          "7",
          "8",
          "9"
         ],
         "y": [
          0.745136186770428,
          0.19747081712062256,
          0.04134241245136187,
          0.009727626459143969,
          0.003404669260700389,
          0.00048638132295719845,
          0.0019455252918287938,
          0,
          0.00048638132295719845
         ]
        }
       ],
       "layout": {
        "title": "Event 44 User Mention Network Fraction",
        "xaxis": {
         "title": "Num of unique user2"
        },
        "yaxis": {
         "title": "Fraction of user1 who mentioned x number of user2"
        }
       }
      },
      "text/html": [
       "<div id=\"4fdb1717-a0f7-4c5d-b00f-8ee5243ca9bf\" style=\"height: 525px; width: 100%;\" class=\"plotly-graph-div\"></div><script type=\"text/javascript\">require([\"plotly\"], function(Plotly) { window.PLOTLYENV=window.PLOTLYENV || {};window.PLOTLYENV.BASE_URL=\"https://plot.ly\";Plotly.newPlot(\"4fdb1717-a0f7-4c5d-b00f-8ee5243ca9bf\", [{\"type\": \"bar\", \"x\": [\"0\", \"1\", \"2\", \"3\", \"4\", \"5\", \"6\", \"7\", \"8\", \"9\"], \"y\": [0.745136186770428, 0.19747081712062256, 0.04134241245136187, 0.009727626459143969, 0.003404669260700389, 0.00048638132295719845, 0.0019455252918287938, 0.0, 0.00048638132295719845], \"showlegend\": false}], {\"xaxis\": {\"title\": \"Num of unique user2\"}, \"yaxis\": {\"title\": \"Fraction of user1 who mentioned x number of user2\"}, \"title\": \"Event 44 User Mention Network Fraction\"}, {\"showLink\": true, \"linkText\": \"Export to plot.ly\"})});</script>"
      ],
      "text/vnd.plotly.v1+html": [
       "<div id=\"4fdb1717-a0f7-4c5d-b00f-8ee5243ca9bf\" style=\"height: 525px; width: 100%;\" class=\"plotly-graph-div\"></div><script type=\"text/javascript\">require([\"plotly\"], function(Plotly) { window.PLOTLYENV=window.PLOTLYENV || {};window.PLOTLYENV.BASE_URL=\"https://plot.ly\";Plotly.newPlot(\"4fdb1717-a0f7-4c5d-b00f-8ee5243ca9bf\", [{\"type\": \"bar\", \"x\": [\"0\", \"1\", \"2\", \"3\", \"4\", \"5\", \"6\", \"7\", \"8\", \"9\"], \"y\": [0.745136186770428, 0.19747081712062256, 0.04134241245136187, 0.009727626459143969, 0.003404669260700389, 0.00048638132295719845, 0.0019455252918287938, 0.0, 0.00048638132295719845], \"showlegend\": false}], {\"xaxis\": {\"title\": \"Num of unique user2\"}, \"yaxis\": {\"title\": \"Fraction of user1 who mentioned x number of user2\"}, \"title\": \"Event 44 User Mention Network Fraction\"}, {\"showLink\": true, \"linkText\": \"Export to plot.ly\"})});</script>"
      ]
     },
     "metadata": {},
     "output_type": "display_data"
    },
    {
     "name": "stdout",
     "output_type": "stream",
     "text": [
      "file: ./aggregated_mention_networks/78_mention_network.csv error: invalid literal for int() with base 10: 'https://pbs.twimg.com/profile_banners/123669878/1468044592'\n",
      "<class 'dict'>\n",
      "[0.6753163543168349, 0.2098350152170431, 0.06855678359762934, 0.0245074483421432, 0.011052378664103796, 0.005606279032516418, 0.002723049815793689, 0.0011212558065032837, 0.0004805382027871216, 0.00032035880185808104, 0.0, 0.00032035880185808104, 0.0, 0.00016017940092904052]\n"
     ]
    },
    {
     "data": {
      "application/vnd.plotly.v1+json": {
       "data": [
        {
         "showlegend": false,
         "type": "bar",
         "x": [
          "0",
          "1",
          "2",
          "3",
          "4",
          "5",
          "6",
          "7",
          "8",
          "9",
          "10",
          "11",
          "12",
          "13",
          "14"
         ],
         "y": [
          0.6753163543168349,
          0.2098350152170431,
          0.06855678359762934,
          0.0245074483421432,
          0.011052378664103796,
          0.005606279032516418,
          0.002723049815793689,
          0.0011212558065032837,
          0.0004805382027871216,
          0.00032035880185808104,
          0,
          0.00032035880185808104,
          0,
          0.00016017940092904052
         ]
        }
       ],
       "layout": {
        "title": "Event 78 User Mention Network Fraction",
        "xaxis": {
         "title": "Num of unique user2"
        },
        "yaxis": {
         "title": "Fraction of user1 who mentioned x number of user2"
        }
       }
      },
      "text/html": [
       "<div id=\"d518c58e-56f3-4f0f-b11f-09959af5fedf\" style=\"height: 525px; width: 100%;\" class=\"plotly-graph-div\"></div><script type=\"text/javascript\">require([\"plotly\"], function(Plotly) { window.PLOTLYENV=window.PLOTLYENV || {};window.PLOTLYENV.BASE_URL=\"https://plot.ly\";Plotly.newPlot(\"d518c58e-56f3-4f0f-b11f-09959af5fedf\", [{\"type\": \"bar\", \"x\": [\"0\", \"1\", \"2\", \"3\", \"4\", \"5\", \"6\", \"7\", \"8\", \"9\", \"10\", \"11\", \"12\", \"13\", \"14\"], \"y\": [0.6753163543168349, 0.2098350152170431, 0.06855678359762934, 0.0245074483421432, 0.011052378664103796, 0.005606279032516418, 0.002723049815793689, 0.0011212558065032837, 0.0004805382027871216, 0.00032035880185808104, 0.0, 0.00032035880185808104, 0.0, 0.00016017940092904052], \"showlegend\": false}], {\"xaxis\": {\"title\": \"Num of unique user2\"}, \"yaxis\": {\"title\": \"Fraction of user1 who mentioned x number of user2\"}, \"title\": \"Event 78 User Mention Network Fraction\"}, {\"showLink\": true, \"linkText\": \"Export to plot.ly\"})});</script>"
      ],
      "text/vnd.plotly.v1+html": [
       "<div id=\"d518c58e-56f3-4f0f-b11f-09959af5fedf\" style=\"height: 525px; width: 100%;\" class=\"plotly-graph-div\"></div><script type=\"text/javascript\">require([\"plotly\"], function(Plotly) { window.PLOTLYENV=window.PLOTLYENV || {};window.PLOTLYENV.BASE_URL=\"https://plot.ly\";Plotly.newPlot(\"d518c58e-56f3-4f0f-b11f-09959af5fedf\", [{\"type\": \"bar\", \"x\": [\"0\", \"1\", \"2\", \"3\", \"4\", \"5\", \"6\", \"7\", \"8\", \"9\", \"10\", \"11\", \"12\", \"13\", \"14\"], \"y\": [0.6753163543168349, 0.2098350152170431, 0.06855678359762934, 0.0245074483421432, 0.011052378664103796, 0.005606279032516418, 0.002723049815793689, 0.0011212558065032837, 0.0004805382027871216, 0.00032035880185808104, 0.0, 0.00032035880185808104, 0.0, 0.00016017940092904052], \"showlegend\": false}], {\"xaxis\": {\"title\": \"Num of unique user2\"}, \"yaxis\": {\"title\": \"Fraction of user1 who mentioned x number of user2\"}, \"title\": \"Event 78 User Mention Network Fraction\"}, {\"showLink\": true, \"linkText\": \"Export to plot.ly\"})});</script>"
      ]
     },
     "metadata": {},
     "output_type": "display_data"
    }
   ],
   "source": [
    "def graph_for_mention_frac(path, events):\n",
    "    for event in events:\n",
    "        file_name = os.path.join(path, \"{}_mention_network.csv\".format(event))\n",
    "        mention_ct = count_unique_user2(file_name, event)\n",
    "        mention_frac = get_mention_fraction(mention_ct)\n",
    "        print(mention_frac)\n",
    "        trace1 = Bar(\n",
    "                x=['%s'%i for i in range(0, len(mention_frac)+1)],\n",
    "                y=mention_frac,\n",
    "                showlegend=False)\n",
    "        layout=Layout(\n",
    "                xaxis=XAxis(title='Num of unique user2'),\n",
    "                yaxis=YAxis(title='Fraction of user1 who mentioned x number of user2'),\n",
    "                title='Event {} User Mention Network Fraction'.format(event))\n",
    "\n",
    "        data = Data([trace1])\n",
    "        fig = Figure(data=data, layout=layout)\n",
    "        plotly.offline.iplot(fig, filename=\"my plot\")\n",
    "\n",
    "graph_for_mention_frac(mention_path, [42, 44, 78])"
   ]
  },
  {
   "cell_type": "code",
   "execution_count": null,
   "metadata": {
    "collapsed": true
   },
   "outputs": [],
   "source": []
  }
 ],
 "metadata": {
  "kernelspec": {
   "display_name": "Python 3",
   "language": "python",
   "name": "python3"
  },
  "language_info": {
   "codemirror_mode": {
    "name": "ipython",
    "version": 3
   },
   "file_extension": ".py",
   "mimetype": "text/x-python",
   "name": "python",
   "nbconvert_exporter": "python",
   "pygments_lexer": "ipython3",
   "version": "3.6.3"
  }
 },
 "nbformat": 4,
 "nbformat_minor": 2
}
