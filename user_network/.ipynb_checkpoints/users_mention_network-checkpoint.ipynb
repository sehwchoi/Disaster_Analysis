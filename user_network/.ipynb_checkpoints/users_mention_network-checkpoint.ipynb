{
 "cells": [
  {
   "cell_type": "code",
   "execution_count": 13,
   "metadata": {},
   "outputs": [
    {
     "data": {
      "text/html": [
       "<script>requirejs.config({paths: { 'plotly': ['https://cdn.plot.ly/plotly-latest.min']},});if(!window.Plotly) {{require(['plotly'],function(plotly) {window.Plotly=plotly;});}}</script>"
      ],
      "text/vnd.plotly.v1+html": [
       "<script>requirejs.config({paths: { 'plotly': ['https://cdn.plot.ly/plotly-latest.min']},});if(!window.Plotly) {{require(['plotly'],function(plotly) {window.Plotly=plotly;});}}</script>"
      ]
     },
     "metadata": {},
     "output_type": "display_data"
    }
   ],
   "source": [
    "import csv\n",
    "import sys\n",
    "import os\n",
    "import re\n",
    "import time\n",
    "from collections import Counter\n",
    "import numpy as np\n",
    "\n",
    "import plotly.plotly as py\n",
    "import plotly\n",
    "from plotly import tools\n",
    "from plotly.offline import init_notebook_mode\n",
    "from plotly.graph_objs import *\n",
    "import plotly.tools as tls\n",
    "\n",
    "sys.path.insert(0, '../')\n",
    "from meta_data_helper import EventMetaDataHelper\n",
    "\n",
    "plotly.tools.set_credentials_file(username='sehwchoi', api_key='Ze9cXbcfuewb3C8TLktc')\n",
    "init_notebook_mode(connected=True)  "
   ]
  },
  {
   "cell_type": "code",
   "execution_count": 14,
   "metadata": {
    "collapsed": true
   },
   "outputs": [],
   "source": [
    "mention_path = \"../../user_network_data/aggregated_mention_networks\"\n",
    "user_set_path = \"../../user_network_data/Event Users\"\n",
    "\n",
    "incident_metadata_path = '../incident_metadata.csv'\n",
    "\n",
    "event_helper = EventMetaDataHelper(incident_metadata_path)\n",
    "events = event_helper.get_all_events()\n",
    "events = list(events)\n",
    "events.sort()"
   ]
  },
  {
   "cell_type": "code",
   "execution_count": 15,
   "metadata": {
    "collapsed": true
   },
   "outputs": [],
   "source": [
    "def __read_user_set(file_name):\n",
    "    user_set = []\n",
    "    with open(file_name) as file:\n",
    "        user_set_data = csv.reader(file)\n",
    "        for row in user_set_data:\n",
    "            user_id = row[0]\n",
    "            if user_id != \"id\":\n",
    "                user_set.append(int(user_id))\n",
    "    return user_set\n"
   ]
  },
  {
   "cell_type": "code",
   "execution_count": 16,
   "metadata": {},
   "outputs": [
    {
     "name": "stdout",
     "output_type": "stream",
     "text": [
      "user_set length: 304\n"
     ]
    }
   ],
   "source": [
    "user_set_by_event = {}\n",
    "def read_user_set_for_all_events(path):\n",
    "    for root, dirs, files in os.walk(path):\n",
    "        for filename in files:\n",
    "            file_match = re.search(\"(\\d+)_\", filename)\n",
    "            if file_match:\n",
    "                event_id = file_match.group(1)\n",
    "                user_set = __read_user_set(os.path.join(root, filename))\n",
    "                # print(\"process event: {} user_set_len: {}\".format(event_id, len(user_set)))\n",
    "                user_set_by_event[int(event_id)] = user_set\n",
    "    print(\"user_set length: {}\".format(len(user_set_by_event)))\n",
    "\n",
    "read_user_set_for_all_events(user_set_path)\n",
    "    "
   ]
  },
  {
   "cell_type": "code",
   "execution_count": 17,
   "metadata": {
    "collapsed": true
   },
   "outputs": [],
   "source": [
    "def count_unique_user2(file_name, event):\n",
    "    usr_unique_mention_ct = {}\n",
    "    user_set = user_set_by_event[event]\n",
    "    \n",
    "    if os.path.isfile(file_name):\n",
    "        with open(file_name) as file:\n",
    "            data = csv.reader(file)\n",
    "            for pair in data:\n",
    "                try:\n",
    "                    user1 = int(pair[0])\n",
    "                    user2 = int(pair[1])\n",
    "                    # print(\"user1: {} user2: {}\".format(user1, user2))\n",
    "                    # check if user1 exist as a key and increment mention count1\n",
    "                    if user1 not in usr_unique_mention_ct:\n",
    "                        # count for an unique user2\n",
    "                        count1 = 1\n",
    "                        count2 = 0\n",
    "                        usr_unique_mention_ct[user1] = [count1, count2]\n",
    "                    else:\n",
    "                        usr_unique_mention_ct[user1][0] +=1\n",
    "\n",
    "                    # increment count2 if the user2 is in the set\n",
    "                    if user2 in user_set:\n",
    "                        #print(\"user2: {} in user_set\".format(user2))\n",
    "                        usr_unique_mention_ct[user1][1] +=1\n",
    "                except Exception as e:\n",
    "                    print(\"file: {} error: {}\".format(file_name, e))\n",
    "    else:\n",
    "        print(\"file: {} not exist\".format(file_name))\n",
    "            \n",
    "            #print(\"user1_mention: {}\".format(usr_unique_mention_ct[user1]))           \n",
    "    #print(\"usr_unique_mention_ct: {}\".format(usr_unique_mention_ct))\n",
    "    return usr_unique_mention_ct"
   ]
  },
  {
   "cell_type": "code",
   "execution_count": 18,
   "metadata": {
    "collapsed": true
   },
   "outputs": [],
   "source": [
    "def get_mention_fraction(mention_ct):\n",
    "    print(type(mention_ct))\n",
    "    count1_max = max(value[0] for value in mention_ct.values())\n",
    "    count2_max = max(value[1] for value in mention_ct.values())\n",
    "    mention_freq = []\n",
    "    total_user1_num = len(mention_ct.keys())\n",
    "    # print(\"total_user_num: {} count1_max: {} count2_max: {}\".format(total_user1_num, count1_max, count2_max))\n",
    "    for i in range(0, count2_max+1):\n",
    "        freq = 0\n",
    "        for counts in mention_ct.values():\n",
    "            if counts[1] == i:\n",
    "                freq += 1\n",
    "        # print(\"num_seq: {} freq: {}\".format(i, freq))\n",
    "        mention_freq.insert(i, freq)\n",
    "        \n",
    "    mention_fraction = []\n",
    "    for freq in mention_freq:\n",
    "        mention_fraction.append(freq/total_user1_num)\n",
    "    \n",
    "    return mention_fraction\n",
    "                "
   ]
  },
  {
   "cell_type": "code",
   "execution_count": 19,
   "metadata": {
    "collapsed": true
   },
   "outputs": [],
   "source": [
    "def get_user2_fraction(mention_ct):\n",
    "    fraction_list = []\n",
    "    for user in mention_ct:\n",
    "        fraction_list.append(mention_ct[user][1] / mention_ct[user][0])\n",
    "    \n",
    "    # print(\"fraction_list: {}\".format(fraction_list))\n",
    "    \n",
    "    cnt = Counter(round(x, 1) for x in fraction_list)\n",
    "    # print(\"fraction count list: {}\".format(cnt))\n",
    "    \n",
    "    x_user2_frac_seq = [round(x * 0.1, 1) for x in range(0, 10)]\n",
    "    y_user1_frac = []\n",
    "    total_user1_num = len(mention_ct.keys())\n",
    "    for frac in x_user2_frac_seq:\n",
    "        # print(\"frac: {} cnt: {}\".format(frac, cnt[frac]))\n",
    "        if frac in cnt:\n",
    "            y_user1_frac.append(cnt[frac] / total_user1_num)\n",
    "        else:\n",
    "            y_user1_frac.append(0)\n",
    "\n",
    "    # print(\"y_user1_frac: {}\".format(y_user1_frac))\n",
    "    return [x_user2_frac_seq, y_user1_frac]\n",
    "\n",
    "file_name = os.path.join(mention_path, \"{}_mention_network.csv\".format(44))\n",
    "mention_ct = count_unique_user2(file_name, 44)\n",
    "graph2_data = get_user2_fraction(mention_ct) "
   ]
  },
  {
   "cell_type": "code",
   "execution_count": 21,
   "metadata": {},
   "outputs": [
    {
     "ename": "TypeError",
     "evalue": "'>' not supported between instances of 'dict_keys' and 'int'",
     "output_type": "error",
     "traceback": [
      "\u001b[0;31m---------------------------------------------------------------------------\u001b[0m",
      "\u001b[0;31mTypeError\u001b[0m                                 Traceback (most recent call last)",
      "\u001b[0;32m<ipython-input-21-0e7403df9661>\u001b[0m in \u001b[0;36m<module>\u001b[0;34m()\u001b[0m\n\u001b[1;32m     74\u001b[0m \u001b[0;34m\u001b[0m\u001b[0m\n\u001b[1;32m     75\u001b[0m \u001b[0;34m\u001b[0m\u001b[0m\n\u001b[0;32m---> 76\u001b[0;31m \u001b[0mgraph_for_mention_frac\u001b[0m\u001b[0;34m(\u001b[0m\u001b[0mmention_path\u001b[0m\u001b[0;34m,\u001b[0m \u001b[0mevents\u001b[0m\u001b[0;34m,\u001b[0m \u001b[0;32mTrue\u001b[0m\u001b[0;34m)\u001b[0m\u001b[0;34m\u001b[0m\u001b[0m\n\u001b[0m",
      "\u001b[0;32m<ipython-input-21-0e7403df9661>\u001b[0m in \u001b[0;36mgraph_for_mention_frac\u001b[0;34m(path, events, draw_graph)\u001b[0m\n\u001b[1;32m      4\u001b[0m         \u001b[0mfile_name\u001b[0m \u001b[0;34m=\u001b[0m \u001b[0mos\u001b[0m\u001b[0;34m.\u001b[0m\u001b[0mpath\u001b[0m\u001b[0;34m.\u001b[0m\u001b[0mjoin\u001b[0m\u001b[0;34m(\u001b[0m\u001b[0mpath\u001b[0m\u001b[0;34m,\u001b[0m \u001b[0;34m\"{}_mention_network.csv\"\u001b[0m\u001b[0;34m.\u001b[0m\u001b[0mformat\u001b[0m\u001b[0;34m(\u001b[0m\u001b[0mevent\u001b[0m\u001b[0;34m)\u001b[0m\u001b[0;34m)\u001b[0m\u001b[0;34m\u001b[0m\u001b[0m\n\u001b[1;32m      5\u001b[0m         \u001b[0mmention_ct\u001b[0m \u001b[0;34m=\u001b[0m \u001b[0mcount_unique_user2\u001b[0m\u001b[0;34m(\u001b[0m\u001b[0mfile_name\u001b[0m\u001b[0;34m,\u001b[0m \u001b[0mevent\u001b[0m\u001b[0;34m)\u001b[0m\u001b[0;34m\u001b[0m\u001b[0m\n\u001b[0;32m----> 6\u001b[0;31m         \u001b[0;32mif\u001b[0m \u001b[0mmention_ct\u001b[0m\u001b[0;34m.\u001b[0m\u001b[0mkeys\u001b[0m\u001b[0;34m(\u001b[0m\u001b[0;34m)\u001b[0m \u001b[0;34m>\u001b[0m \u001b[0;36m0\u001b[0m\u001b[0;34m:\u001b[0m\u001b[0;34m\u001b[0m\u001b[0m\n\u001b[0m\u001b[1;32m      7\u001b[0m             \u001b[0mmention_frac\u001b[0m \u001b[0;34m=\u001b[0m \u001b[0mget_mention_fraction\u001b[0m\u001b[0;34m(\u001b[0m\u001b[0mmention_ct\u001b[0m\u001b[0;34m)\u001b[0m\u001b[0;34m\u001b[0m\u001b[0m\n\u001b[1;32m      8\u001b[0m             \u001b[0mgraph2_data\u001b[0m \u001b[0;34m=\u001b[0m \u001b[0mget_user2_fraction\u001b[0m\u001b[0;34m(\u001b[0m\u001b[0mmention_ct\u001b[0m\u001b[0;34m)\u001b[0m \u001b[0;31m# Counter dictionary\u001b[0m\u001b[0;34m\u001b[0m\u001b[0m\n",
      "\u001b[0;31mTypeError\u001b[0m: '>' not supported between instances of 'dict_keys' and 'int'"
     ]
    }
   ],
   "source": [
    "def graph_for_mention_frac(path, events, draw_graph):\n",
    "    avg_user2_mentioned_list = []\n",
    "    for event in events:\n",
    "        file_name = os.path.join(path, \"{}_mention_network.csv\".format(event))\n",
    "        mention_ct = count_unique_user2(file_name, event)\n",
    "        if len(mention_ct) > 0:\n",
    "            mention_frac = get_mention_fraction(mention_ct)\n",
    "            graph2_data = get_user2_fraction(mention_ct) # Counter dictionary\n",
    "            x_user2_frac_seq = graph2_data[0]\n",
    "            y_user1_frac = graph2_data[1]\n",
    "\n",
    "            print(mention_frac)\n",
    "            cnt2_sum = 0\n",
    "            for user1 in mention_ct:\n",
    "                cnt2_sum += mention_ct[user1][1]\n",
    "            avg = cnt2_sum / len(mention_ct.keys())\n",
    "            print(\"event: {} avg_usr2_cnt: {}\".format(event, avg))\n",
    "            avg_user2_mentioned_list.append(avg)\n",
    "\n",
    "            if draw_graph:\n",
    "                trace1 = Bar(\n",
    "                        x=['%s'%i for i in range(0, len(mention_frac)+1)],\n",
    "                        y=mention_frac,\n",
    "                        showlegend=False)\n",
    "\n",
    "                trace2 = Bar(\n",
    "                        x=['{} ~ {}'.format(x, round(x+0.1, 1)) for x in x_user2_frac_seq],\n",
    "                        y=y_user1_frac,\n",
    "                        showlegend=False)\n",
    "\n",
    "                layout=Layout(\n",
    "                        xaxis=XAxis(title='Num of unique user2'),\n",
    "                        yaxis=YAxis(title='Fraction of user1'),\n",
    "                        xaxis2=XAxis(title='Fraction of unique user2'),\n",
    "                        yaxis2=YAxis(title='Fraction of user1'),\n",
    "                        title='Event {} User Mention Network Fraction'.format(event))\n",
    "\n",
    "                fig = tools.make_subplots(rows=1, cols=2, subplot_titles=('Plot 1', 'Plot 2'))\n",
    "                fig.append_trace(trace1, 1, 1)\n",
    "                fig.append_trace(trace2, 1, 2)\n",
    "\n",
    "                fig['layout']['xaxis1'].update(title='Num of unique user2')\n",
    "                fig['layout']['xaxis2'].update(title='Fraction of unique user2')\n",
    "                fig['layout']['yaxis1'].update(title='Fraction of user1')\n",
    "                fig['layout']['yaxis2'].update(title='Fraction of user1')\n",
    "\n",
    "                fig['layout'].update(title='Event {} User1 Mentioning Unique Number of User2'.format(event))\n",
    "                plotly.offline.iplot(fig, filename=\"my plot\")\n",
    "\n",
    "    avg_count = Counter(round(x, 1) for x in avg_user2_mentioned_list)\n",
    "    print(\"avg_count: {}\".format(avg_count))\n",
    "    avg_max = max(avg_count.keys())\n",
    "    print(\"avg_max: {}\".format(avg_max))\n",
    "    avg_seq = [round(x*0.1, 1) for x in range(0, int(avg_max*10)+1)]\n",
    "    print(\"avg_seq: {}\".format(avg_seq))\n",
    "    y_seq = []\n",
    "    for seq in avg_seq:\n",
    "        cnt = 0\n",
    "        if seq in avg_count:\n",
    "            cnt = avg_count[seq]\n",
    "        y_seq.append(cnt)\n",
    "    trace_avg = Bar(\n",
    "                x=avg_seq,\n",
    "                y=y_seq,\n",
    "                showlegend=False)\n",
    "    layout=Layout(\n",
    "                xaxis=XAxis(title='Avg unique user2 mentioned'),\n",
    "                yaxis=YAxis(title='Number of events'),\n",
    "                title='Avg number of unique user2 mentioned by user2')\n",
    "\n",
    "    data = Data([trace_avg])\n",
    "    fig = Figure(data=data, layout=layout)\n",
    "    plotly.offline.iplot(fig, filename=\"my plot\")\n",
    "\n",
    "    \n",
    "graph_for_mention_frac(mention_path, events, True)"
   ]
  },
  {
   "cell_type": "code",
   "execution_count": null,
   "metadata": {
    "collapsed": true
   },
   "outputs": [],
   "source": []
  }
 ],
 "metadata": {
  "kernelspec": {
   "display_name": "Python 3",
   "language": "python",
   "name": "python3"
  },
  "language_info": {
   "codemirror_mode": {
    "name": "ipython",
    "version": 3
   },
   "file_extension": ".py",
   "mimetype": "text/x-python",
   "name": "python",
   "nbconvert_exporter": "python",
   "pygments_lexer": "ipython3",
   "version": "3.6.3"
  }
 },
 "nbformat": 4,
 "nbformat_minor": 2
}
